{
 "cells": [
  {
   "cell_type": "markdown",
   "metadata": {},
   "source": [
    "## Library Import"
   ]
  },
  {
   "cell_type": "code",
   "execution_count": 90,
   "metadata": {
    "collapsed": true
   },
   "outputs": [],
   "source": [
    "from random import (choice, random, randint)\n",
    "import numpy as np\n",
    "import matplotlib.pyplot as plt\n",
    "from time import sleep\n",
    "from GA import Population\n",
    "from IPython.display import Image\n",
    "%matplotlib inline"
   ]
  },
  {
   "cell_type": "markdown",
   "metadata": {},
   "source": [
    " ## 찾아갈 타겟 문자열 선정을 훨씬 길게 하고 최대 반복 횟수 설정"
   ]
  },
  {
   "cell_type": "code",
   "execution_count": 95,
   "metadata": {
    "collapsed": true
   },
   "outputs": [],
   "source": [
    "_target  =\"This is GA algorithm for the performance measurement. it is very hard to find perfect target string\"\n",
    "maxGenerations = 300"
   ]
  },
  {
   "cell_type": "markdown",
   "metadata": {},
   "source": [
    "## Population 파라미터 설정 "
   ]
  },
  {
   "cell_type": "code",
   "execution_count": 99,
   "metadata": {},
   "outputs": [],
   "source": [
    "pop1 = Population(size=2048, crossover=0.8, elitism=0.1, mutation=0.03)\n",
    "pop2 = Population(size=2048, crossover=0.8, elitism=0.1, mutation=0.3)\n",
    "pop3 = Population(size=2048, crossover=0.8, elitism=0.5, mutation=0.03)\n",
    "pop4 = Population(size=2048, crossover=0.2, elitism=0.1, mutation=0.03)\n",
    "pop5 = Population(size=2048, crossover=0.2, elitism=0.5, mutation=0.3)"
   ]
  },
  {
   "cell_type": "markdown",
   "metadata": {},
   "source": [
    "## Plot 배열 할당"
   ]
  },
  {
   "cell_type": "code",
   "execution_count": 100,
   "metadata": {},
   "outputs": [],
   "source": [
    "pop1_graph = np.zeros(maxGenerations)\n",
    "pop2_graph = np.zeros(maxGenerations)\n",
    "pop3_graph = np.zeros(maxGenerations)\n",
    "pop4_graph = np.zeros(maxGenerations)\n",
    "pop5_graph = np.zeros(maxGenerations)\n",
    "s = np.arange(0, maxGenerations, 1) # for x axis graph. [0 , 1, 2, 3 ... maxGenerations - 1]\n",
    "N = 20"
   ]
  },
  {
   "cell_type": "markdown",
   "metadata": {},
   "source": [
    "## 각 population마다 N개의 샘플을 fitness값과 평균내어 값을 계산하여 그림"
   ]
  },
  {
   "cell_type": "code",
   "execution_count": 101,
   "metadata": {},
   "outputs": [
    {
     "data": {
      "image/png": "[encoded data removed]",
      "text/plain": [
       "<matplotlib.figure.Figure at 0x2249d616b70>"
      ]
     },
     "metadata": {},
     "output_type": "display_data"
    }
   ],
   "source": [
    "for i in range(0, maxGenerations):\n",
    "    \n",
    "    for k in range(N):#한 pop당 N개 표본에 대한 평균; for minibatch_size = N\n",
    "        pop1_graph[i] =+ pop1.population[k].fitness\n",
    "    pop1_graph[i] / N\n",
    "    \n",
    "    for k in range(N):\n",
    "        pop2_graph[i] =+ pop2.population[k].fitness\n",
    "    pop2_graph[i] / N\n",
    "    \n",
    "    for k in range(N):\n",
    "        pop3_graph[i] =+ pop3.population[k].fitness\n",
    "    pop3_graph[i] / N\n",
    "    \n",
    "    for k in range(N):\n",
    "        pop4_graph[i] =+ pop4.population[k].fitness\n",
    "    pop4_graph[i] / N\n",
    "    \n",
    "    for k in range(N):\n",
    "        pop5_graph[i] =+ pop5.population[k].fitness\n",
    "    pop5_graph[i] / N\n",
    "    \n",
    "    \n",
    "\n",
    "\n",
    "\n",
    "    if i == maxGenerations-1: \n",
    "        fig = plt.figure()\n",
    "        ax = plt.subplot(111)\n",
    "        ax.plot(s,pop1_graph, label='crossover=0.8, mutation=0.03, elitism=0.1')\n",
    "        ax.plot(s,pop2_graph, label='crossover=0.8, mutation=0.3,  elitism=0.1')\n",
    "        ax.plot(s,pop3_graph, label='crossover=0.8, mutation=0.03, elitism=0.5')\n",
    "        ax.plot(s,pop4_graph, label='crossover=0.2, mutation=0.03, elitism=0.1')\n",
    "        ax.plot(s,pop5_graph, label='crossover=0.2, mutation=0.03, elitism=0.5')\n",
    "        ax.legend()\n",
    "        plt.show()\n",
    "        break\n",
    "    else:\n",
    "        pop1.evolve()\n",
    "        pop2.evolve()\n",
    "        pop3.evolve()\n",
    "        pop4.evolve()\n",
    "        pop5.evolve()\n",
    "else:\n",
    "    print(\"Maximum generations reached without success.\")"
   ]
  },
  {
   "cell_type": "markdown",
   "metadata": {},
   "source": []
  },
  {
   "cell_type": "code",
   "execution_count": null,
   "metadata": {},
   "outputs": [],
   "source": []
  },
  {
   "cell_type": "code",
   "execution_count": null,
   "metadata": {
    "collapsed": true
   },
   "outputs": [],
   "source": []
  }
 ],
 "metadata": {
  "kernelspec": {
   "display_name": "Python 3",
   "language": "python",
   "name": "python3"
  },
  "language_info": {
   "codemirror_mode": {
    "name": "ipython",
    "version": 3
   },
   "file_extension": ".py",
   "mimetype": "text/x-python",
   "name": "python",
   "nbconvert_exporter": "python",
   "pygments_lexer": "ipython3",
   "version": "3.6.4"
  }
 },
 "nbformat": 4,
 "nbformat_minor": 2
}
